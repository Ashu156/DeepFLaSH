{
 "cells": [
  {
   "cell_type": "markdown",
   "metadata": {
    "colab_type": "text",
    "id": "iRD035oENxhu"
   },
   "source": [
    "This notebook is optmizied to be executed on Google Colab (https://colab.research.google.com).\n",
    "\n",
    "Here, the U-net deep learning model creates a segmentation map (mask) on new images. The results are compared to an expert segmentation.\n",
    "\n",
    "Example: image (l) and mask (r) \\\\\n",
    "    <img src=\"https://raw.githubusercontent.com/matjesg/DeepFLaSH/master/assets/cFOS_Wue.png\" width=\"250\" height=\"250\" alt=\"cFOS_Wue\">\n",
    "    <img src=\"https://raw.githubusercontent.com/matjesg/DeepFLaSH/master/assets/cFOS_Wue_mask.png\" width=\"250\" height=\"250\" alt=\"cFOS_Wue_mask\">\n",
    "\n",
    "Press the the *play* butten to execute the cells. It will show up between \\[     \\] on the left side of the code cells."
   ]
  },
  {
   "cell_type": "code",
   "execution_count": null,
   "metadata": {
    "colab": {
     "base_uri": "https://localhost:8080/",
     "height": 397.0
    },
    "colab_type": "code",
    "id": "UCPo3P9Mc_c0",
    "outputId": "80e4f71c-69cd-4f3a-fee2-8e601671385c"
   },
   "outputs": [],
   "source": [
    "# Set up Google Colab Environment\n",
    "!git clone https://github.com/matjesg/DeepFLaSH.git\n",
    "import os\n",
    "import sys\n",
    "ROOT_DIR = os.path.abspath(\"DeepFLaSH\")\n",
    "sys.path.append(ROOT_DIR)\\\n",
    "    \n",
    "import numpy as np\n",
    "from unet import utils\n",
    "from unet import colab_utils\n",
    "from google.colab import files\n",
    "\n",
    "# Load model\n",
    "model = utils.load_unet('cFOS')\n",
    "\n",
    "# Load images\n",
    "img_names, img_list = colab_utils.load_samples(path = 'cFOS', suffix = 'cFOS')\n",
    "msk_names, msk_list = colab_utils.load_samples(path = 'cFOS', suffix = 'expert')\n",
    "\n",
    "# Predict masks with the unet\n",
    "pred_train = model.predict(np.asarray(img_list))\n",
    "msk_train_list = [pred_train[i] for i in range(pred_train.shape[0])]\n",
    "\n",
    "# Calculate Jaccard Similarity\n",
    "jac_sim = utils.jaccard_sim(msk_list, pred_train, threshold = 0.94)"
   ]
  },
  {
   "cell_type": "markdown",
   "metadata": {
    "colab_type": "text",
    "id": "5n3FfCHnc_do"
   },
   "source": [
    "**Plot results**\n",
    "The joined mask consists of the manual/expert segmentation mask and unet prediction.\n",
    "\n",
    "Color code: \n",
    "- white = merge\n",
    "- magenta = unet only\n",
    "- green = original/expert only"
   ]
  },
  {
   "cell_type": "code",
   "execution_count": null,
   "metadata": {
    "colab": {
     "base_uri": "https://localhost:8080/",
     "height": 2644.0
    },
    "colab_type": "code",
    "id": "8ngJTPn1c_dE",
    "outputId": "fc864f3c-3fc4-4dfb-89b1-dcec04dfa85d"
   },
   "outputs": [],
   "source": [
    "join_list = [utils.join_masks(msk_train_list[i], msk_list[i], threshold = 0.94) for i in range(len(msk_list))]\n",
    "utils.plot_image_and_mask(img_names = img_names, img_list = img_list,\n",
    "                          msk_names = jac_sim, msk_list = join_list,\n",
    "                          msk_head = 'Jaccard Similarity')"
   ]
  }
 ],
 "metadata": {
  "accelerator": "GPU",
  "colab": {
   "collapsed_sections": [],
   "name": "demo.ipynb",
   "provenance": [],
   "toc_visible": true,
   "version": "0.3.2"
  },
  "kernelspec": {
   "display_name": "Python 3",
   "language": "python",
   "name": "python3"
  },
  "language_info": {
   "codemirror_mode": {
    "name": "ipython",
    "version": 3
   },
   "file_extension": ".py",
   "mimetype": "text/x-python",
   "name": "python",
   "nbconvert_exporter": "python",
   "pygments_lexer": "ipython3",
   "version": "3.5.2"
  }
 },
 "nbformat": 4,
 "nbformat_minor": 1
}
